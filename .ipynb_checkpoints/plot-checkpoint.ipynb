{
 "cells": [
  {
   "cell_type": "code",
   "execution_count": 53,
   "id": "3375e4f1-f1a7-4b80-a998-c8dfc24e4e72",
   "metadata": {},
   "outputs": [],
   "source": []
  },
  {
   "cell_type": "code",
   "execution_count": 2,
   "id": "dd0bd7ae-e1e7-48a3-a7e2-e597b03f63e4",
   "metadata": {},
   "outputs": [],
   "source": [
    "import matplotlib.pyplot as plt"
   ]
  },
  {
   "cell_type": "code",
   "execution_count": 6,
   "id": "bd11ac12-6736-4e33-a109-2623ecf1603d",
   "metadata": {},
   "outputs": [],
   "source": [
    "time = [2.057290554046631, 1.4571678638458252, 0.9031157493591309,  5.793323755264282, 0.62254738807678223, 0.30811071395874023, 0.0476689338684082, 0.19451546669006348, 7.027517557144165, 0.03328347206115723]"
   ]
  },
  {
   "cell_type": "code",
   "execution_count": 7,
   "id": "44484d3a-2d90-47ee-a2c4-b4fc4f024fbd",
   "metadata": {},
   "outputs": [],
   "source": [
    "cost = [302.7300141024121, 271.4629867976528, 159.02438661763944,  463.0538238691624, 152.0243866176394,130.78174593052006, 30.313708498984763, 122.96551211459362, 507.3797256769669, 38.112698372208094]"
   ]
  },
  {
   "cell_type": "code",
   "execution_count": 8,
   "id": "4bc7ea2f-ff2f-44f8-badc-f19f7d3f9c0c",
   "metadata": {},
   "outputs": [
    {
     "data": {
      "image/png": "[encoded data removed]",
      "text/plain": [
       "<Figure size 432x288 with 1 Axes>"
      ]
     },
     "metadata": {
      "needs_background": "light"
     },
     "output_type": "display_data"
    }
   ],
   "source": [
    "plt.scatter(cost, time)\n",
    "plt.grid(True)\n",
    "plt.xlabel('cost')\n",
    "plt.ylabel('time')\n",
    "plt.savefig('plot.png',facecolor = 'white')"
   ]
  },
  {
   "cell_type": "code",
   "execution_count": null,
   "id": "7159e1d4-bf50-419c-95d7-286f7a977ac5",
   "metadata": {},
   "outputs": [],
   "source": []
  }
 ],
 "metadata": {
  "kernelspec": {
   "display_name": "Python 3 (ipykernel)",
   "language": "python",
   "name": "python3"
  },
  "language_info": {
   "codemirror_mode": {
    "name": "ipython",
    "version": 3
   },
   "file_extension": ".py",
   "mimetype": "text/x-python",
   "name": "python",
   "nbconvert_exporter": "python",
   "pygments_lexer": "ipython3",
   "version": "3.8.10"
  }
 },
 "nbformat": 4,
 "nbformat_minor": 5
}
