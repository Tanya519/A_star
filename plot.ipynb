{
 "cells": [
  {
   "cell_type": "markdown",
   "id": "5ae46543-a90c-4cd2-a6bd-630b2476deb8",
   "metadata": {},
   "source": [
    "### Показательные графики"
   ]
  },
  {
   "cell_type": "code",
   "execution_count": 2,
   "id": "dd0bd7ae-e1e7-48a3-a7e2-e597b03f63e4",
   "metadata": {},
   "outputs": [],
   "source": [
    "import matplotlib.pyplot as plt"
   ]
  },
  {
   "cell_type": "code",
   "execution_count": 7,
   "id": "abc078f1-fb75-493c-b676-1b0622fe5b7f",
   "metadata": {},
   "outputs": [],
   "source": [
    "from search.map import Map\n",
    "from search.Node import Node\n",
    "from search.algorithms import AStar\n",
    "import random\n",
    "import time"
   ]
  },
  {
   "cell_type": "code",
   "execution_count": 55,
   "id": "887781be-dc5c-4fba-aa39-a0c224fa8210",
   "metadata": {},
   "outputs": [],
   "source": [
    "EPS = 0.01\n",
    "N = 150\n",
    "\n",
    "def read_scen(path):\n",
    "    tasks = []\n",
    "    with open('scen/' + path + '.map.scen') as taskFile:\n",
    "        lines = taskFile.readlines()[1:]\n",
    "    for line in lines:\n",
    "        coord = line.split()\n",
    "        tasks.append({'y_start': int(coord[-5]), 'x_start': int(coord[-4]), 'y_end': int(\n",
    "            coord[-3]), 'x_end': int(coord[-2]), 'cost': float(coord[-1])})\n",
    "    return random.sample(tasks, N)"
   ]
  },
  {
   "cell_type": "code",
   "execution_count": 56,
   "id": "47072f63-037a-4027-b355-3495e944c1e3",
   "metadata": {},
   "outputs": [],
   "source": [
    "file_name = 'Berlin_0_256'"
   ]
  },
  {
   "cell_type": "code",
   "execution_count": 57,
   "id": "eb8b8c98-88ed-4bc1-b46e-edfb2ca6731d",
   "metadata": {},
   "outputs": [],
   "source": [
    "tasks_file = {}\n",
    "tasks_file[file_name] = read_scen(file_name)\n",
    "\n",
    "k = 0\n",
    "time_list = []\n",
    "cost_list = []\n",
    "\n",
    "gridded_map = Map('maps/' + file_name + '.map')\n",
    "astar = AStar(gridded_map)\n",
    "\n",
    "Node.Cut_corners = True\n",
    "\n",
    "tasks = tasks_file[file_name]\n",
    "for task in tasks:\n",
    "    start = Node(task['x_start'], task['y_start'])\n",
    "    end = Node(task['x_end'], task['y_end'])\n",
    "    start_time = time.time()\n",
    "    ans, cost = astar.search(start, end)\n",
    "    end_time = time.time()\n",
    "    astar_time = end_time - start_time\n",
    "    time_list.append(astar_time)\n",
    "    cost_list.append(cost)"
   ]
  },
  {
   "cell_type": "code",
   "execution_count": 58,
   "id": "4bc7ea2f-ff2f-44f8-badc-f19f7d3f9c0c",
   "metadata": {},
   "outputs": [
    {
     "data": {
      "image/png": "[encoded data removed]",
      "text/plain": [
       "<Figure size 432x288 with 1 Axes>"
      ]
     },
     "metadata": {
      "needs_background": "light"
     },
     "output_type": "display_data"
    }
   ],
   "source": [
    "plt.scatter(cost_list, time_list)\n",
    "plt.grid(True)\n",
    "plt.xlabel('cost')\n",
    "plt.ylabel('time')\n",
    "plt.title('Зависимость времени работы алгоритма от стоимости пути')\n",
    "plt.savefig('plot.png',facecolor = 'white')"
   ]
  },
  {
   "cell_type": "code",
   "execution_count": null,
   "id": "7159e1d4-bf50-419c-95d7-286f7a977ac5",
   "metadata": {},
   "outputs": [],
   "source": []
  }
 ],
 "metadata": {
  "kernelspec": {
   "display_name": "Python 3 (ipykernel)",
   "language": "python",
   "name": "python3"
  },
  "language_info": {
   "codemirror_mode": {
    "name": "ipython",
    "version": 3
   },
   "file_extension": ".py",
   "mimetype": "text/x-python",
   "name": "python",
   "nbconvert_exporter": "python",
   "pygments_lexer": "ipython3",
   "version": "3.8.10"
  }
 },
 "nbformat": 4,
 "nbformat_minor": 5
}
